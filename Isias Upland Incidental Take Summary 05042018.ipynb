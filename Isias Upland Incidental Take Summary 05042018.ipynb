{
 "cells": [
  {
   "cell_type": "markdown",
   "metadata": {},
   "source": [
    "## Isias Incidental Take Summary 05/04/2018 Run"
   ]
  },
  {
   "cell_type": "code",
   "execution_count": 8,
   "metadata": {},
   "outputs": [],
   "source": [
    "from shapely.geometry import Point\n",
    "import pandas as pd\n",
    "import geopandas as gpd\n",
    "from geopandas import GeoSeries, GeoDataFrame\n",
    "import numpy as np\n",
    "import os, glob"
   ]
  },
  {
   "cell_type": "code",
   "execution_count": 25,
   "metadata": {},
   "outputs": [],
   "source": [
    "isias_file = '/Users/mflaxman/Downloads/isias_proj1_scen42_20180504/impacts.shp'\n",
    "date = '05042018'"
   ]
  },
  {
   "cell_type": "code",
   "execution_count": 29,
   "metadata": {},
   "outputs": [
    {
     "data": {
      "text/html": [
       "<div>\n",
       "<style scoped>\n",
       "    .dataframe tbody tr th:only-of-type {\n",
       "        vertical-align: middle;\n",
       "    }\n",
       "\n",
       "    .dataframe tbody tr th {\n",
       "        vertical-align: top;\n",
       "    }\n",
       "\n",
       "    .dataframe thead th {\n",
       "        text-align: right;\n",
       "    }\n",
       "</style>\n",
       "<table border=\"1\" class=\"dataframe\">\n",
       "  <thead>\n",
       "    <tr style=\"text-align: right;\">\n",
       "      <th></th>\n",
       "      <th>SCENARIO</th>\n",
       "      <th>SC_NAME</th>\n",
       "      <th>SC_VERSION</th>\n",
       "      <th>TIMESTEP</th>\n",
       "      <th>TS_START</th>\n",
       "      <th>TS_END</th>\n",
       "      <th>ACT_NAME</th>\n",
       "      <th>ACT_CODE</th>\n",
       "      <th>SPE_NAME</th>\n",
       "      <th>SPE_CODE</th>\n",
       "      <th>IMP_AREA</th>\n",
       "      <th>HAB_PATCH</th>\n",
       "      <th>IMPACT_ID</th>\n",
       "      <th>ACRES</th>\n",
       "      <th>QUALITY</th>\n",
       "      <th>geometry</th>\n",
       "    </tr>\n",
       "  </thead>\n",
       "  <tbody>\n",
       "    <tr>\n",
       "      <th>0</th>\n",
       "      <td>42</td>\n",
       "      <td>Plan Trend with Directional Armoring</td>\n",
       "      <td>3</td>\n",
       "      <td>118</td>\n",
       "      <td>2022-01-01</td>\n",
       "      <td>2022-12-31</td>\n",
       "      <td>Direct - Beach Armoring Landward</td>\n",
       "      <td>ARMR</td>\n",
       "      <td>Seaturtles</td>\n",
       "      <td>STRT</td>\n",
       "      <td>28238205</td>\n",
       "      <td>5800</td>\n",
       "      <td>5124862</td>\n",
       "      <td>0.007989</td>\n",
       "      <td>5</td>\n",
       "      <td>POLYGON ((-80.06443301772829 26.407274675558, ...</td>\n",
       "    </tr>\n",
       "    <tr>\n",
       "      <th>1</th>\n",
       "      <td>42</td>\n",
       "      <td>Plan Trend with Directional Armoring</td>\n",
       "      <td>3</td>\n",
       "      <td>128</td>\n",
       "      <td>2032-01-01</td>\n",
       "      <td>2032-12-31</td>\n",
       "      <td>Direct - Large Non-native Landscape, Pools &amp; D...</td>\n",
       "      <td>LSPl</td>\n",
       "      <td>Seaturtles</td>\n",
       "      <td>STRT</td>\n",
       "      <td>28348489</td>\n",
       "      <td>5877</td>\n",
       "      <td>5149762</td>\n",
       "      <td>0.017754</td>\n",
       "      <td>3</td>\n",
       "      <td>POLYGON ((-86.62616827478796 30.3971371011565,...</td>\n",
       "    </tr>\n",
       "    <tr>\n",
       "      <th>2</th>\n",
       "      <td>42</td>\n",
       "      <td>Plan Trend with Directional Armoring</td>\n",
       "      <td>3</td>\n",
       "      <td>128</td>\n",
       "      <td>2032-01-01</td>\n",
       "      <td>2032-12-31</td>\n",
       "      <td>Direct - Large Non-native Landscape, Pools &amp; D...</td>\n",
       "      <td>LSPl</td>\n",
       "      <td>Seaturtles</td>\n",
       "      <td>STRT</td>\n",
       "      <td>28348495</td>\n",
       "      <td>5877</td>\n",
       "      <td>5149764</td>\n",
       "      <td>0.023580</td>\n",
       "      <td>3</td>\n",
       "      <td>POLYGON ((-87.17867281770512 30.32551701167347...</td>\n",
       "    </tr>\n",
       "    <tr>\n",
       "      <th>3</th>\n",
       "      <td>42</td>\n",
       "      <td>Plan Trend with Directional Armoring</td>\n",
       "      <td>3</td>\n",
       "      <td>128</td>\n",
       "      <td>2032-01-01</td>\n",
       "      <td>2032-12-31</td>\n",
       "      <td>Direct - Large Non-native Landscape, Pools &amp; D...</td>\n",
       "      <td>LSPl</td>\n",
       "      <td>Seaturtles</td>\n",
       "      <td>STRT</td>\n",
       "      <td>28348496</td>\n",
       "      <td>5877</td>\n",
       "      <td>5149765</td>\n",
       "      <td>0.053897</td>\n",
       "      <td>3</td>\n",
       "      <td>POLYGON ((-87.17641436095265 30.3259034860321,...</td>\n",
       "    </tr>\n",
       "    <tr>\n",
       "      <th>4</th>\n",
       "      <td>42</td>\n",
       "      <td>Plan Trend with Directional Armoring</td>\n",
       "      <td>3</td>\n",
       "      <td>134</td>\n",
       "      <td>2038-01-01</td>\n",
       "      <td>2038-12-31</td>\n",
       "      <td>Direct - Beach Armoring Landward</td>\n",
       "      <td>ARMR</td>\n",
       "      <td>Seaturtles</td>\n",
       "      <td>STRT</td>\n",
       "      <td>28345686</td>\n",
       "      <td>5806</td>\n",
       "      <td>5152396</td>\n",
       "      <td>0.006175</td>\n",
       "      <td>5</td>\n",
       "      <td>POLYGON ((-82.26676814599895 26.77115517152771...</td>\n",
       "    </tr>\n",
       "  </tbody>\n",
       "</table>\n",
       "</div>"
      ],
      "text/plain": [
       "   SCENARIO                               SC_NAME SC_VERSION  TIMESTEP  \\\n",
       "0        42  Plan Trend with Directional Armoring          3       118   \n",
       "1        42  Plan Trend with Directional Armoring          3       128   \n",
       "2        42  Plan Trend with Directional Armoring          3       128   \n",
       "3        42  Plan Trend with Directional Armoring          3       128   \n",
       "4        42  Plan Trend with Directional Armoring          3       134   \n",
       "\n",
       "     TS_START      TS_END                                           ACT_NAME  \\\n",
       "0  2022-01-01  2022-12-31                   Direct - Beach Armoring Landward   \n",
       "1  2032-01-01  2032-12-31  Direct - Large Non-native Landscape, Pools & D...   \n",
       "2  2032-01-01  2032-12-31  Direct - Large Non-native Landscape, Pools & D...   \n",
       "3  2032-01-01  2032-12-31  Direct - Large Non-native Landscape, Pools & D...   \n",
       "4  2038-01-01  2038-12-31                   Direct - Beach Armoring Landward   \n",
       "\n",
       "  ACT_CODE    SPE_NAME SPE_CODE  IMP_AREA  HAB_PATCH  IMPACT_ID     ACRES  \\\n",
       "0     ARMR  Seaturtles     STRT  28238205       5800    5124862  0.007989   \n",
       "1     LSPl  Seaturtles     STRT  28348489       5877    5149762  0.017754   \n",
       "2     LSPl  Seaturtles     STRT  28348495       5877    5149764  0.023580   \n",
       "3     LSPl  Seaturtles     STRT  28348496       5877    5149765  0.053897   \n",
       "4     ARMR  Seaturtles     STRT  28345686       5806    5152396  0.006175   \n",
       "\n",
       "   QUALITY                                           geometry  \n",
       "0        5  POLYGON ((-80.06443301772829 26.407274675558, ...  \n",
       "1        3  POLYGON ((-86.62616827478796 30.3971371011565,...  \n",
       "2        3  POLYGON ((-87.17867281770512 30.32551701167347...  \n",
       "3        3  POLYGON ((-87.17641436095265 30.3259034860321,...  \n",
       "4        5  POLYGON ((-82.26676814599895 26.77115517152771...  "
      ]
     },
     "execution_count": 29,
     "metadata": {},
     "output_type": "execute_result"
    }
   ],
   "source": [
    "isias_run = gpd.read_file(isias_file)\n",
    "isias_run.head()"
   ]
  },
  {
   "cell_type": "markdown",
   "metadata": {},
   "source": [
    "#### Strip Armoring Calculations from ISIAS run (because final method was directional)"
   ]
  },
  {
   "cell_type": "code",
   "execution_count": 61,
   "metadata": {},
   "outputs": [],
   "source": [
    "dup = 'Direct - Beach Armoring Landward'\n",
    "isias_run.drop(isias_run[isias_run.ACT_NAME == dup].index, inplace=True)\n",
    "dup = 'Indirect - Armoring'\n",
    "isias_run.drop(isias_run[isias_run.ACT_NAME == dup].index, inplace=True)\n",
    "# SPE_NAME\n",
    "dup = 'Gopher Tortoise'\n",
    "isias_run.drop(isias_run[isias_run.SPE_NAME == dup].index, inplace=True)"
   ]
  },
  {
   "cell_type": "code",
   "execution_count": 62,
   "metadata": {},
   "outputs": [
    {
     "data": {
      "text/plain": [
       "array([u'Direct - Large Non-native Landscape, Pools & Decks',\n",
       "       u'Indirect - Single Family Activity', u'Indirect - Fill permits',\n",
       "       u'Direct - Small Non-native Landscape, Pools & Decks',\n",
       "       u'Direct - Dune Crossovers',\n",
       "       u'Indirect - Multifamily/Commercial/Institutional Activities',\n",
       "       u'Indirect - Dune Crossovers (SFR)',\n",
       "       u'Direct - Building Footprint - SFR',\n",
       "       u'Direct - Building Footprint - MFR/COM'], dtype=object)"
      ]
     },
     "execution_count": 62,
     "metadata": {},
     "output_type": "execute_result"
    }
   ],
   "source": [
    "isias_run.ACT_NAME.unique()"
   ]
  },
  {
   "cell_type": "code",
   "execution_count": 63,
   "metadata": {},
   "outputs": [],
   "source": [
    "# rename internal attributes\n",
    "isias_run['ACT_NAME'] = isias_run['ACT_NAME'].replace(to_replace='Medium ', value='', regex=True)\n",
    "isias_run['ACT_NAME'] = isias_run['ACT_NAME'].replace(to_replace='Direct - Building Footprint - Small', value='Direct - Building Footprint - SFR', regex=True)\n",
    "isias_run['ACT_NAME'] = isias_run['ACT_NAME'].replace(to_replace='Direct - Building Footprint - Large', value='Direct - Building Footprint - MFR/COM', regex=True)"
   ]
  },
  {
   "cell_type": "code",
   "execution_count": 64,
   "metadata": {
    "scrolled": true
   },
   "outputs": [
    {
     "data": {
      "text/html": [
       "<div>\n",
       "<style scoped>\n",
       "    .dataframe tbody tr th:only-of-type {\n",
       "        vertical-align: middle;\n",
       "    }\n",
       "\n",
       "    .dataframe tbody tr th {\n",
       "        vertical-align: top;\n",
       "    }\n",
       "\n",
       "    .dataframe thead th {\n",
       "        text-align: right;\n",
       "    }\n",
       "</style>\n",
       "<table border=\"1\" class=\"dataframe\">\n",
       "  <thead>\n",
       "    <tr style=\"text-align: right;\">\n",
       "      <th></th>\n",
       "      <th>SCENARIO</th>\n",
       "      <th>SC_NAME</th>\n",
       "      <th>SC_VERSION</th>\n",
       "      <th>TIMESTEP</th>\n",
       "      <th>TS_START</th>\n",
       "      <th>TS_END</th>\n",
       "      <th>ACT_NAME</th>\n",
       "      <th>ACT_CODE</th>\n",
       "      <th>SPE_NAME</th>\n",
       "      <th>SPE_CODE</th>\n",
       "      <th>IMP_AREA</th>\n",
       "      <th>HAB_PATCH</th>\n",
       "      <th>IMPACT_ID</th>\n",
       "      <th>ACRES</th>\n",
       "      <th>QUALITY</th>\n",
       "      <th>geometry</th>\n",
       "    </tr>\n",
       "  </thead>\n",
       "  <tbody>\n",
       "    <tr>\n",
       "      <th>48851</th>\n",
       "      <td>42</td>\n",
       "      <td>Plan Trend with Directional Armoring</td>\n",
       "      <td>3</td>\n",
       "      <td>123</td>\n",
       "      <td>2027-01-01</td>\n",
       "      <td>2027-12-31</td>\n",
       "      <td>Direct - Building Footprint - MFR/COM</td>\n",
       "      <td>FTPl</td>\n",
       "      <td>Seaturtles</td>\n",
       "      <td>STRT</td>\n",
       "      <td>28250951</td>\n",
       "      <td>5857</td>\n",
       "      <td>5132382</td>\n",
       "      <td>0.326012</td>\n",
       "      <td>5</td>\n",
       "      <td>POLYGON ((-81.144217197264 29.51540336837166, ...</td>\n",
       "    </tr>\n",
       "    <tr>\n",
       "      <th>55136</th>\n",
       "      <td>42</td>\n",
       "      <td>Plan Trend with Directional Armoring</td>\n",
       "      <td>3</td>\n",
       "      <td>128</td>\n",
       "      <td>2032-01-01</td>\n",
       "      <td>2032-12-31</td>\n",
       "      <td>Direct - Building Footprint - MFR/COM</td>\n",
       "      <td>FTPl</td>\n",
       "      <td>Beach Mice</td>\n",
       "      <td>BMSE</td>\n",
       "      <td>28355552</td>\n",
       "      <td>6246</td>\n",
       "      <td>5145929</td>\n",
       "      <td>0.482078</td>\n",
       "      <td>3</td>\n",
       "      <td>POLYGON ((-87.44196562405563 30.29472941792676...</td>\n",
       "    </tr>\n",
       "    <tr>\n",
       "      <th>3295</th>\n",
       "      <td>42</td>\n",
       "      <td>Plan Trend with Directional Armoring</td>\n",
       "      <td>3</td>\n",
       "      <td>129</td>\n",
       "      <td>2033-01-01</td>\n",
       "      <td>2033-12-31</td>\n",
       "      <td>Direct - Building Footprint - MFR/COM</td>\n",
       "      <td>FTPl</td>\n",
       "      <td>Beach Mice</td>\n",
       "      <td>BMSE</td>\n",
       "      <td>28255434</td>\n",
       "      <td>6092</td>\n",
       "      <td>5134143</td>\n",
       "      <td>0.222188</td>\n",
       "      <td>3</td>\n",
       "      <td>POLYGON ((-86.87838781873661 30.37768632357855...</td>\n",
       "    </tr>\n",
       "    <tr>\n",
       "      <th>54554</th>\n",
       "      <td>42</td>\n",
       "      <td>Plan Trend with Directional Armoring</td>\n",
       "      <td>3</td>\n",
       "      <td>122</td>\n",
       "      <td>2026-01-01</td>\n",
       "      <td>2026-12-31</td>\n",
       "      <td>Direct - Building Footprint - MFR/COM</td>\n",
       "      <td>FTPl</td>\n",
       "      <td>Seaturtles</td>\n",
       "      <td>STRT</td>\n",
       "      <td>28342229</td>\n",
       "      <td>5857</td>\n",
       "      <td>5144741</td>\n",
       "      <td>0.128587</td>\n",
       "      <td>5</td>\n",
       "      <td>POLYGON ((-81.14949287736574 29.52600779269519...</td>\n",
       "    </tr>\n",
       "    <tr>\n",
       "      <th>29026</th>\n",
       "      <td>42</td>\n",
       "      <td>Plan Trend with Directional Armoring</td>\n",
       "      <td>3</td>\n",
       "      <td>116</td>\n",
       "      <td>2020-01-01</td>\n",
       "      <td>2020-12-31</td>\n",
       "      <td>Direct - Building Footprint - MFR/COM</td>\n",
       "      <td>FTPl</td>\n",
       "      <td>Nonbreeding Shorebirds</td>\n",
       "      <td>NBSB</td>\n",
       "      <td>28185489</td>\n",
       "      <td>5710</td>\n",
       "      <td>5099875</td>\n",
       "      <td>0.383488</td>\n",
       "      <td>1</td>\n",
       "      <td>POLYGON ((-84.9086519955892 29.63954853812608,...</td>\n",
       "    </tr>\n",
       "  </tbody>\n",
       "</table>\n",
       "</div>"
      ],
      "text/plain": [
       "       SCENARIO                               SC_NAME SC_VERSION  TIMESTEP  \\\n",
       "48851        42  Plan Trend with Directional Armoring          3       123   \n",
       "55136        42  Plan Trend with Directional Armoring          3       128   \n",
       "3295         42  Plan Trend with Directional Armoring          3       129   \n",
       "54554        42  Plan Trend with Directional Armoring          3       122   \n",
       "29026        42  Plan Trend with Directional Armoring          3       116   \n",
       "\n",
       "         TS_START      TS_END                               ACT_NAME ACT_CODE  \\\n",
       "48851  2027-01-01  2027-12-31  Direct - Building Footprint - MFR/COM     FTPl   \n",
       "55136  2032-01-01  2032-12-31  Direct - Building Footprint - MFR/COM     FTPl   \n",
       "3295   2033-01-01  2033-12-31  Direct - Building Footprint - MFR/COM     FTPl   \n",
       "54554  2026-01-01  2026-12-31  Direct - Building Footprint - MFR/COM     FTPl   \n",
       "29026  2020-01-01  2020-12-31  Direct - Building Footprint - MFR/COM     FTPl   \n",
       "\n",
       "                     SPE_NAME SPE_CODE  IMP_AREA  HAB_PATCH  IMPACT_ID  \\\n",
       "48851              Seaturtles     STRT  28250951       5857    5132382   \n",
       "55136              Beach Mice     BMSE  28355552       6246    5145929   \n",
       "3295               Beach Mice     BMSE  28255434       6092    5134143   \n",
       "54554              Seaturtles     STRT  28342229       5857    5144741   \n",
       "29026  Nonbreeding Shorebirds     NBSB  28185489       5710    5099875   \n",
       "\n",
       "          ACRES  QUALITY                                           geometry  \n",
       "48851  0.326012        5  POLYGON ((-81.144217197264 29.51540336837166, ...  \n",
       "55136  0.482078        3  POLYGON ((-87.44196562405563 30.29472941792676...  \n",
       "3295   0.222188        3  POLYGON ((-86.87838781873661 30.37768632357855...  \n",
       "54554  0.128587        5  POLYGON ((-81.14949287736574 29.52600779269519...  \n",
       "29026  0.383488        1  POLYGON ((-84.9086519955892 29.63954853812608,...  "
      ]
     },
     "execution_count": 64,
     "metadata": {},
     "output_type": "execute_result"
    }
   ],
   "source": [
    "isias_run.sort_values(by='ACT_NAME').head()"
   ]
  },
  {
   "cell_type": "code",
   "execution_count": 65,
   "metadata": {},
   "outputs": [],
   "source": [
    "outfile = 'intermediates/gdt_upland_impacts_{}'.format(date)\n",
    "isias_run.to_file(outfile)"
   ]
  },
  {
   "cell_type": "markdown",
   "metadata": {},
   "source": [
    "#### Copy Final Files to Final Location, Adding Metadata to Filenames"
   ]
  },
  {
   "cell_type": "code",
   "execution_count": 57,
   "metadata": {},
   "outputs": [
    {
     "name": "stdout",
     "output_type": "stream",
     "text": [
      "Successfully found and copied required elements: \n",
      "3 files copied to /Users/mflaxman/Dropbox/fbhcp/notebooks/intermediates\n"
     ]
    }
   ],
   "source": [
    "def copy_shapefile(oldpath, newpath):\n",
    "    required_count = 3\n",
    "    actual_count = 0\n",
    "    cwd = %pwd\n",
    "\n",
    "    oldbase = os.path.basename(oldpath).replace('.shp','')\n",
    "    #print('oldbase is {}'.format(oldbase))\n",
    "    oldpath = oldpath.replace(os.path.basename(oldpath), '')\n",
    "    #print('oldpath is {}'.format(oldpath))\n",
    "    #if path isn't absolute, starting with a slash, then treat as relative to pwd\n",
    "    if newpath[1] != '/':\n",
    "        newpath = os.path.join(cwd, newpath)\n",
    "    #print('newpath is {}'.format(newpath))\n",
    "    required_parts = ('shp', 'shx', 'dbf')\n",
    "    optional_parts = ('prj', 'sbx', 'sbn')\n",
    "    \n",
    "    for p in required_parts:\n",
    "        oldfile = os.path.join(oldpath, '{}.{}'.format(oldbase, p))\n",
    "        newfile = os.path.join(newpath, '{}.{}'.format(oldbase, p))\n",
    "        try:\n",
    "            !cp {oldfile} {newfile}\n",
    "        except:\n",
    "            print('Could not copy required shapefile part \"{}\"'.format(oldfile))\n",
    "        actual_count += 1\n",
    "\n",
    "    for p in optional_parts:\n",
    "        oldfile = os.path.join(oldpath, '{}.{}'.format(oldbase, p))\n",
    "        newfile = os.path.join(newpath, '{}.{}'.format(oldbase, p))\n",
    "        if os.path.exists(oldfile):\n",
    "            !cp {oldfile} {newfile}\n",
    "            \n",
    "    if actual_count == required_count:\n",
    "        print('Successfully found and copied required elements: \\n{} files copied to {}'.format(actual_count, newpath))\n",
    "\n",
    "copy_shapefile(isias_file, 'intermediates')"
   ]
  },
  {
   "cell_type": "code",
   "execution_count": 36,
   "metadata": {},
   "outputs": [
    {
     "name": "stdout",
     "output_type": "stream",
     "text": [
      "oldbase is impacts\n",
      "oldname is intermediates/\n",
      "newname is /Users/mflaxman/Dropbox/fbhcp/notebooks/intermediates/isias_run_raw_data_05042018\n",
      "mv intermediates/impacts.shp /Users/mflaxman/Dropbox/fbhcp/notebooks/intermediates/isias_run_raw_data_05042018.shp\n",
      "mv: rename intermediates/impacts.shp to /Users/mflaxman/Dropbox/fbhcp/notebooks/intermediates/isias_run_raw_data_05042018.shp: No such file or directory\n",
      "mv intermediates/impacts.shx /Users/mflaxman/Dropbox/fbhcp/notebooks/intermediates/isias_run_raw_data_05042018.shx\n",
      "mv: rename intermediates/impacts.shx to /Users/mflaxman/Dropbox/fbhcp/notebooks/intermediates/isias_run_raw_data_05042018.shx: No such file or directory\n",
      "mv intermediates/impacts.dbf /Users/mflaxman/Dropbox/fbhcp/notebooks/intermediates/isias_run_raw_data_05042018.dbf\n",
      "mv: rename intermediates/impacts.dbf to /Users/mflaxman/Dropbox/fbhcp/notebooks/intermediates/isias_run_raw_data_05042018.dbf: No such file or directory\n"
     ]
    }
   ],
   "source": [
    "def rename_shapefile(oldname, newname):\n",
    "    required_parts = ('shp', 'shx', 'dbf')\n",
    "    optional_parts = ('prj', 'sbx', 'sbn')\n",
    "    cwd = %pwd\n",
    "\n",
    "    oldbase = os.path.basename(oldname).replace('.shp','')\n",
    "    print('oldbase is {}'.format(oldbase))\n",
    "    oldname = oldname.replace(os.path.basename(oldname), '')\n",
    "    print('oldname is {}'.format(oldname))\n",
    "\n",
    "    #if path isn't absolute, starting with a slash, then treat as relative to pwd\n",
    "    if newname[1] != '/':\n",
    "        newname = os.path.join(cwd, newname)\n",
    "\n",
    "    print('newname is {}'.format(newname))\n",
    "    for p in required_parts:\n",
    "        oldpart = os.path.join(oldname, '{}.{}'.format(oldbase, p))\n",
    "        newpart = os.path.join(newname, '{}.{}'.format(newname, p))\n",
    "        command = 'mv {} {}'.format(oldpart, newpart)\n",
    "        print(command) \n",
    "        !{command}\n",
    "\n",
    "rename_shapefile('intermediates/impacts.shp','intermediates/isias_run_raw_data_{}'.format(date))"
   ]
  },
  {
   "cell_type": "code",
   "execution_count": 28,
   "metadata": {},
   "outputs": [
    {
     "name": "stdout",
     "output_type": "stream",
     "text": [
      "-rw-r--r--@ 1 mflaxman  staff  35467093 Jul  9 09:43 intermediates/gdt_upland_impacts_05042018.dbf\r\n",
      "-rw-r--r--@ 1 mflaxman  staff  28665236 Jul  9 09:43 intermediates/gdt_upland_impacts_05042018.shp\r\n",
      "-rw-r--r--@ 1 mflaxman  staff    640580 Jul  9 09:43 intermediates/gdt_upland_impacts_05042018.shx\r\n",
      "-rw-r--r--@ 1 mflaxman  staff  35467093 Jul  9 09:24 intermediates/gdt_upland_impacts_05082018.dbf\r\n",
      "-rw-r--r--@ 1 mflaxman  staff  28665236 Jul  9 09:24 intermediates/gdt_upland_impacts_05082018.shp\r\n",
      "-rw-r--r--@ 1 mflaxman  staff    640580 Jul  9 09:24 intermediates/gdt_upland_impacts_05082018.shx\r\n"
     ]
    }
   ],
   "source": [
    "!ls -l intermediates/gdt_upland*"
   ]
  },
  {
   "cell_type": "markdown",
   "metadata": {},
   "source": [
    "### Export Isias file to Excel (loosing geographic info)"
   ]
  },
  {
   "cell_type": "code",
   "execution_count": 66,
   "metadata": {},
   "outputs": [],
   "source": [
    "output = 'outputs/gdt_upland_impacts_{}.xls'.format(date)\n",
    "isias_run.to_excel(output)"
   ]
  },
  {
   "cell_type": "code",
   "execution_count": 67,
   "metadata": {},
   "outputs": [],
   "source": [
    "!open {output}"
   ]
  },
  {
   "cell_type": "code",
   "execution_count": null,
   "metadata": {},
   "outputs": [],
   "source": []
  }
 ],
 "metadata": {
  "kernelspec": {
   "display_name": "Python 2",
   "language": "python",
   "name": "python2"
  },
  "language_info": {
   "codemirror_mode": {
    "name": "ipython",
    "version": 2
   },
   "file_extension": ".py",
   "mimetype": "text/x-python",
   "name": "python",
   "nbconvert_exporter": "python",
   "pygments_lexer": "ipython2",
   "version": "2.7.15"
  }
 },
 "nbformat": 4,
 "nbformat_minor": 2
}
